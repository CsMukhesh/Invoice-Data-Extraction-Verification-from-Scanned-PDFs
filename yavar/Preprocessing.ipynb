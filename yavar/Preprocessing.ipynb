{
 "cells": [
  {
   "cell_type": "code",
   "execution_count": 1,
   "id": "06a714d2-d000-4e8a-8290-4797d7da62ef",
   "metadata": {},
   "outputs": [
    {
     "name": "stdout",
     "output_type": "stream",
     "text": [
      "Requirement already satisfied: pdf2image in c:\\users\\csmuk\\appdata\\local\\programs\\python\\python310\\lib\\site-packages (1.17.0)Note: you may need to restart the kernel to use updated packages.\n",
      "\n",
      "Requirement already satisfied: opencv-python in c:\\users\\csmuk\\appdata\\local\\programs\\python\\python310\\lib\\site-packages (4.11.0.86)\n",
      "Requirement already satisfied: pillow in c:\\users\\csmuk\\appdata\\local\\programs\\python\\python310\\lib\\site-packages (11.1.0)\n",
      "Requirement already satisfied: numpy in c:\\users\\csmuk\\appdata\\local\\programs\\python\\python310\\lib\\site-packages (1.24.4)\n"
     ]
    }
   ],
   "source": [
    "pip install pdf2image opencv-python pillow numpy\n"
   ]
  },
  {
   "cell_type": "code",
   "execution_count": 3,
   "id": "5c8c54a6-7685-4f84-9d73-b8d9ddd7b072",
   "metadata": {},
   "outputs": [
    {
     "name": "stdout",
     "output_type": "stream",
     "text": [
      "Saved: output/preprocessed\\1WhatsApp Image_page_1.png\n",
      "Saved: output/preprocessed\\WhatsApp_page_1.png\n",
      "Saved: output/preprocessed\\WhatsApp_page_2.png\n"
     ]
    }
   ],
   "source": [
    "import os\n",
    "from pdf2image import convert_from_path\n",
    "import cv2\n",
    "import numpy as np\n",
    "from PIL import Image\n",
    "\n",
    "INPUT_DIR = 'input'\n",
    "OUTPUT_DIR = 'output/preprocessed'\n",
    "\n",
    "os.makedirs(OUTPUT_DIR, exist_ok=True)\n",
    "\n",
    "def preprocess_image(img):\n",
    "    # Convert to grayscale\n",
    "    gray = cv2.cvtColor(np.array(img), cv2.COLOR_RGB2GRAY)\n",
    "    \n",
    "    # Binarize\n",
    "    _, binary = cv2.threshold(gray, 0, 255, cv2.THRESH_BINARY + cv2.THRESH_OTSU)\n",
    "    \n",
    "    # Denoise\n",
    "    denoised = cv2.fastNlMeansDenoising(binary, None, 30, 7, 21)\n",
    "    \n",
    "    return Image.fromarray(denoised)\n",
    "\n",
    "def process_pdfs():\n",
    "    for filename in os.listdir(INPUT_DIR):\n",
    "        if filename.lower().endswith('.pdf'):\n",
    "            pdf_path = os.path.join(INPUT_DIR, filename)\n",
    "            images = convert_from_path(pdf_path, dpi=300)\n",
    "\n",
    "            for i, img in enumerate(images):\n",
    "                processed = preprocess_image(img)\n",
    "                output_path = os.path.join(OUTPUT_DIR, f\"{os.path.splitext(filename)[0]}_page_{i+1}.png\")\n",
    "                processed.save(output_path)\n",
    "                print(f\"Saved: {output_path}\")\n",
    "\n",
    "if __name__ == '__main__':\n",
    "    process_pdfs()\n"
   ]
  },
  {
   "cell_type": "code",
   "execution_count": null,
   "id": "03304513-4e18-4bbf-8b34-2f23635ae84e",
   "metadata": {},
   "outputs": [],
   "source": []
  }
 ],
 "metadata": {
  "kernelspec": {
   "display_name": "Python 3 (ipykernel)",
   "language": "python",
   "name": "python3"
  },
  "language_info": {
   "codemirror_mode": {
    "name": "ipython",
    "version": 3
   },
   "file_extension": ".py",
   "mimetype": "text/x-python",
   "name": "python",
   "nbconvert_exporter": "python",
   "pygments_lexer": "ipython3",
   "version": "3.10.0"
  }
 },
 "nbformat": 4,
 "nbformat_minor": 5
}
